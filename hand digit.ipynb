{
 "cells": [
  {
   "cell_type": "code",
   "execution_count": 1,
   "id": "0e3ac352",
   "metadata": {},
   "outputs": [],
   "source": [
    "#import packages\n",
    "import keras\n",
    "from keras.datasets import mnist\n",
    "from keras.models import Sequential\n",
    "from keras.layers import Dense, Dropout, Flatten\n",
    "from keras.layers import Conv2D, MaxPooling2D\n",
    "from keras import backend as K"
   ]
  },
  {
   "cell_type": "code",
   "execution_count": 2,
   "id": "5c29aadd",
   "metadata": {},
   "outputs": [
    {
     "name": "stdout",
     "output_type": "stream",
     "text": [
      "(60000, 28, 28) (60000,)\n"
     ]
    }
   ],
   "source": [
    "# the data, split between train and test sets\n",
    "(x_train,y_train),(x_test,y_test) = mnist.load_data()\n",
    "print(x_train.shape, y_train.shape)"
   ]
  },
  {
   "cell_type": "code",
   "execution_count": 3,
   "id": "2b207f4a",
   "metadata": {},
   "outputs": [],
   "source": [
    "x_train = x_train.reshape(x_train.shape[0],28,28,1)\n",
    "x_test = x_test.reshape(x_test.shape[0],28,28,1)\n",
    "input_shape = (28,28,1)"
   ]
  },
  {
   "cell_type": "code",
   "execution_count": 4,
   "id": "66b71fa2",
   "metadata": {},
   "outputs": [],
   "source": [
    "from keras import utils"
   ]
  },
  {
   "cell_type": "code",
   "execution_count": 5,
   "id": "dde3a01e",
   "metadata": {},
   "outputs": [
    {
     "name": "stdout",
     "output_type": "stream",
     "text": [
      "x_train shape: (60000, 28, 28, 1)\n",
      "60000 train samples\n",
      "10000 test samples\n"
     ]
    }
   ],
   "source": [
    "# convert class vectors to binary class matrices\n",
    "num_classes=10\n",
    "y_train = keras.utils.to_categorical(y_train, num_classes)\n",
    "y_test = keras.utils.to_categorical(y_test, num_classes)\n",
    "\n",
    "x_train = x_train.astype('float32')\n",
    "x_test = x_test.astype('float32')\n",
    "x_train /=255\n",
    "x_test /=255\n",
    "print('x_train shape:', x_train.shape)\n",
    "print(x_train.shape[0], 'train samples')\n",
    "print(x_test.shape[0], 'test samples')"
   ]
  },
  {
   "cell_type": "code",
   "execution_count": 6,
   "id": "6c5cc0b8",
   "metadata": {},
   "outputs": [],
   "source": [
    "\n",
    "model = Sequential()\n",
    "model.add(Conv2D(32, kernel_size=(3, 3),activation='relu',input_shape=input_shape))\n",
    "model.add(Conv2D(64, (3, 3), activation='relu'))\n",
    "model.add(MaxPooling2D(pool_size=(2, 2)))\n",
    "model.add(Dropout(0.25))\n",
    "model.add(Flatten())\n",
    "model.add(Dense(256, activation='relu'))\n",
    "model.add(Dropout(0.5))\n",
    "model.add(Dense(num_classes, activation='softmax'))\n",
    "\n",
    "model.compile(loss=keras.losses.categorical_crossentropy,optimizer=keras.optimizers.Adadelta(),metrics=['accuracy'])"
   ]
  },
  {
   "cell_type": "code",
   "execution_count": 7,
   "id": "c63d2918",
   "metadata": {},
   "outputs": [
    {
     "name": "stdout",
     "output_type": "stream",
     "text": [
      "Epoch 1/10\n",
      "469/469 [==============================] - 511s 1s/step - loss: 2.2823 - accuracy: 0.1490 - val_loss: 2.2616 - val_accuracy: 0.2000\n",
      "Epoch 2/10\n",
      "469/469 [==============================] - 434s 925ms/step - loss: 2.2476 - accuracy: 0.2265 - val_loss: 2.2188 - val_accuracy: 0.2867\n",
      "Epoch 3/10\n",
      "469/469 [==============================] - 473s 1s/step - loss: 2.2013 - accuracy: 0.3065 - val_loss: 2.1592 - val_accuracy: 0.4309\n",
      "Epoch 4/10\n",
      "469/469 [==============================] - 405s 863ms/step - loss: 2.1345 - accuracy: 0.4015 - val_loss: 2.0704 - val_accuracy: 0.5807\n",
      "Epoch 5/10\n",
      "469/469 [==============================] - 299s 638ms/step - loss: 2.0336 - accuracy: 0.4972 - val_loss: 1.9348 - val_accuracy: 0.6861\n",
      "Epoch 6/10\n",
      "469/469 [==============================] - 602s 1s/step - loss: 1.8817 - accuracy: 0.5803 - val_loss: 1.7321 - val_accuracy: 0.7484\n",
      "Epoch 7/10\n",
      "469/469 [==============================] - 369s 786ms/step - loss: 1.6698 - accuracy: 0.6416 - val_loss: 1.4637 - val_accuracy: 0.7888\n",
      "Epoch 8/10\n",
      "469/469 [==============================] - 366s 780ms/step - loss: 1.4242 - accuracy: 0.6753 - val_loss: 1.1856 - val_accuracy: 0.8068\n",
      "Epoch 9/10\n",
      "469/469 [==============================] - 310s 661ms/step - loss: 1.2013 - accuracy: 0.7017 - val_loss: 0.9621 - val_accuracy: 0.8178\n",
      "Epoch 10/10\n",
      "469/469 [==============================] - 316s 674ms/step - loss: 1.0396 - accuracy: 0.7207 - val_loss: 0.8077 - val_accuracy: 0.8312\n",
      "the model has sucessfully trained\n"
     ]
    }
   ],
   "source": [
    "batch_size = 128\n",
    "hist = model.fit(x_train, y_train, batch_size = batch_size, epochs = 10, verbose = 1, validation_data = (x_test, y_test))\n",
    "print('the model has sucessfully trained')"
   ]
  },
  {
   "cell_type": "code",
   "execution_count": 8,
   "id": "ce9e437b",
   "metadata": {},
   "outputs": [],
   "source": [
    "model.save(r'E:\\data flair\\mnist.h5')"
   ]
  },
  {
   "cell_type": "code",
   "execution_count": 9,
   "id": "391dc8d0",
   "metadata": {},
   "outputs": [
    {
     "name": "stdout",
     "output_type": "stream",
     "text": [
      "Test loss: 0.8077358603477478\n",
      "Test accuracy: 0.8312000036239624\n"
     ]
    }
   ],
   "source": [
    "score = model.evaluate(x_test, y_test, verbose=0)\n",
    "print('Test loss:', score[0])\n",
    "print('Test accuracy:', score[1])"
   ]
  },
  {
   "cell_type": "code",
   "execution_count": 2,
   "id": "11323414",
   "metadata": {},
   "outputs": [],
   "source": [
    "from keras.models import load_model\n",
    "from tkinter import *\n",
    "import tkinter as tk\n",
    "import win32gui\n",
    "from PIL import ImageGrab, Image\n",
    "import numpy as np"
   ]
  },
  {
   "cell_type": "code",
   "execution_count": 3,
   "id": "5daf081a",
   "metadata": {},
   "outputs": [],
   "source": [
    "import tensorflow as tf"
   ]
  },
  {
   "cell_type": "code",
   "execution_count": null,
   "id": "ceda5342",
   "metadata": {},
   "outputs": [],
   "source": [
    "\n",
    "\n",
    "model = tf.keras.models.load_model(r'E:\\data flair\\mnist.h5')\n",
    "\n",
    "def predict_digit(img):\n",
    "    #resize image to 28x28 pixels\n",
    "    img = img.resize((28,28))\n",
    "    #convert rgb to grayscale\n",
    "    img = img.convert('L')\n",
    "    img = np.array(img)\n",
    "    #reshaping to support our model input and normalizing\n",
    "    img = img.reshape(1,28,28,1)\n",
    "    img = img/255.0\n",
    "    #predicting the class\n",
    "    res = model.predict([img])[0]\n",
    "    return np.argmax(res), max(res)\n",
    "\n",
    "class App(tk.Tk):\n",
    "    def __init__(self):\n",
    "        tk.Tk.__init__(self)\n",
    "\n",
    "        self.x = self.y = 0\n",
    "\n",
    "        # Creating elements\n",
    "        self.canvas = tk.Canvas(self, width=300, height=300, bg = \"white\", cursor=\"cross\")\n",
    "        self.label = tk.Label(self, text=\"Thinking..\", font=(\"Helvetica\", 48))\n",
    "        self.classify_btn = tk.Button(self, text = \"Recognise\", command =         self.classify_handwriting) \n",
    "        self.button_clear = tk.Button(self, text = \"Clear\", command = self.clear_all)\n",
    "\n",
    "        # Grid structure\n",
    "        self.canvas.grid(row=0, column=0, pady=2, sticky=W, )\n",
    "        self.label.grid(row=0, column=1,pady=2, padx=2)\n",
    "        self.classify_btn.grid(row=1, column=1, pady=2, padx=2)\n",
    "        self.button_clear.grid(row=1, column=0, pady=2)\n",
    "\n",
    "        #self.canvas.bind(\"<Motion>\", self.start_pos)\n",
    "        self.canvas.bind(\"<B1-Motion>\", self.draw_lines)\n",
    "\n",
    "    def clear_all(self):\n",
    "        self.canvas.delete(\"all\")\n",
    "\n",
    "    def classify_handwriting(self):\n",
    "        HWND = self.canvas.winfo_id() # get the handle of the canvas\n",
    "        rect = win32gui.GetWindowRect(HWND) # get the coordinate of the canvas\n",
    "        im = ImageGrab.grab(rect)\n",
    "\n",
    "        digit, acc = predict_digit(im)\n",
    "        self.label.configure(text= str(digit)+', '+ str(int(acc*100))+'%')\n",
    "\n",
    "    def draw_lines(self, event):\n",
    "        self.x = event.x\n",
    "        self.y = event.y\n",
    "        r=8\n",
    "        self.canvas.create_oval(self.x-r, self.y-r, self.x + r, self.y + r, fill='black')\n",
    "\n",
    "app = App()\n",
    "mainloop()"
   ]
  },
  {
   "cell_type": "code",
   "execution_count": null,
   "id": "abaf70b9",
   "metadata": {},
   "outputs": [],
   "source": []
  }
 ],
 "metadata": {
  "kernelspec": {
   "display_name": "Python 3",
   "language": "python",
   "name": "python3"
  },
  "language_info": {
   "codemirror_mode": {
    "name": "ipython",
    "version": 3
   },
   "file_extension": ".py",
   "mimetype": "text/x-python",
   "name": "python",
   "nbconvert_exporter": "python",
   "pygments_lexer": "ipython3",
   "version": "3.6.13"
  }
 },
 "nbformat": 4,
 "nbformat_minor": 5
}
